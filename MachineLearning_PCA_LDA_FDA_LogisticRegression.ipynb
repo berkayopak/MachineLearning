{
  "nbformat": 4,
  "nbformat_minor": 0,
  "metadata": {
    "colab": {
      "name": "MachineLearning_PCA_LDA_FDA_LogisticRegression.ipynb",
      "provenance": [],
      "collapsed_sections": [],
      "include_colab_link": true
    },
    "kernelspec": {
      "name": "python3",
      "display_name": "Python 3"
    }
  },
  "cells": [
    {
      "cell_type": "markdown",
      "metadata": {
        "id": "view-in-github",
        "colab_type": "text"
      },
      "source": [
        "<a href=\"https://colab.research.google.com/github/berkayopak/MachineLearning/blob/master/MachineLearning_PCA_LDA_FDA_LogisticRegression.ipynb\" target=\"_parent\"><img src=\"https://colab.research.google.com/assets/colab-badge.svg\" alt=\"Open In Colab\"/></a>"
      ]
    },
    {
      "cell_type": "markdown",
      "metadata": {
        "id": "GU7-oIov84-i",
        "colab_type": "text"
      },
      "source": [
        "# Makine Öğrenmesi Proje\n",
        "### Ad Soyad: Berkay Opak\n",
        "### No: 185112054\n",
        "### Konu: PCA, LDA/FDA, indirgenmemiş verinin karşılaştırılması"
      ]
    },
    {
      "cell_type": "code",
      "metadata": {
        "id": "hVB4CqXsFtFw",
        "colab_type": "code",
        "colab": {
          "base_uri": "https://localhost:8080/",
          "height": 54
        },
        "outputId": "cf1c0e97-145a-482b-c2e2-c7af3124a6cc"
      },
      "source": [
        "import matplotlib.pyplot as plt\n",
        "import numpy as np\n",
        "\n",
        "from sklearn.datasets import fetch_openml\n",
        "from sklearn.decomposition import PCA\n",
        "from sklearn.linear_model import LogisticRegression\n",
        "from sklearn.discriminant_analysis import LinearDiscriminantAnalysis as LDA\n",
        "from sklearn.model_selection import train_test_split\n",
        "from sklearn.preprocessing import StandardScaler\n",
        "from sklearn.metrics import accuracy_score, f1_score, precision_score, recall_score, confusion_matrix\n",
        "\n",
        "# Load data from https://www.openml.org/d/554\n",
        "mnist = fetch_openml('mnist_784', version=1)\n",
        "\n",
        "train_img, test_img, train_lbl, test_lbl = train_test_split(mnist.data, mnist.target, test_size=1/7.0, random_state=0)\n",
        "scaler = StandardScaler()\n",
        "\n",
        "# Fit on training set only.\n",
        "scaler.fit(train_img)\n",
        "\n",
        "# Apply transform to both the training set and the test set.\n",
        "train_img = scaler.transform(train_img)\n",
        "test_img = scaler.transform(test_img)\n",
        "\n",
        "# Make an instance of the Model\n",
        "pca = PCA()\n",
        "pca.fit(train_img)\n",
        "\n",
        "# Available solvers => svd, lsqr, eigen\n",
        "lda = LDA()\n",
        "lda.fit(train_img, train_lbl)\n",
        "\n",
        "#PCA\n",
        "train_img_pca = pca.transform(train_img)\n",
        "test_img_pca = pca.transform(test_img)\n",
        "\n",
        "#LDA\n",
        "train_img_lda = lda.transform(train_img)\n",
        "test_img_lda = lda.transform(test_img)\n",
        "\n",
        "# all parameters not specified are set to their defaults\n",
        "# default solver is incredibly slow which is why it was changed to 'lbfgs'\n",
        "logisticRegrPca = LogisticRegression(solver = 'lbfgs', max_iter=1000, multi_class='auto')\n",
        "logisticRegrPca.fit(train_img_pca, train_lbl)\n",
        "\n",
        "scorePca = logisticRegrPca.score(test_img_pca, test_lbl)\n",
        "\n",
        "logisticRegrLda = LogisticRegression(solver = 'lbfgs', max_iter=1000, multi_class='auto')\n",
        "logisticRegrLda.fit(train_img_lda, train_lbl)\n",
        "\n",
        "scoreLda = logisticRegrLda.score(test_img_lda, test_lbl)\n",
        "\n",
        "logisticRegrSalt = LogisticRegression(solver = 'lbfgs', max_iter=1000, multi_class='auto')\n",
        "logisticRegrSalt.fit(train_img, train_lbl)\n",
        "\n",
        "scoreSalt = logisticRegrSalt.score(test_img, test_lbl)"
      ],
      "execution_count": 1,
      "outputs": [
        {
          "output_type": "stream",
          "text": [
            "/usr/local/lib/python3.6/dist-packages/sklearn/discriminant_analysis.py:388: UserWarning: Variables are collinear.\n",
            "  warnings.warn(\"Variables are collinear.\")\n"
          ],
          "name": "stderr"
        }
      ]
    },
    {
      "cell_type": "markdown",
      "metadata": {
        "id": "r6gqxOzm79VO",
        "colab_type": "text"
      },
      "source": [
        "# Giriş\n",
        "İlgili indirgeme fonksiyonlarının yukarıdaki kodda tanımlamaları yapılmış ve salt verinin özellikleri bu algoritmalar aracılığıyla indirgenmiştir. Bu özellik indirgeme işlemlerinden önce, alınan verilere standardizasyon/optimizasyon işlemleri de uygulanmıştır. Aşağıda; çeşitli başarı ölçüm metodlarının sonuçları ve ilgili fonksiyon çıktılarının confusion matrix bilgileri gösterilmektedir.\n",
        "## Salt (Özellikleri indirgenmemiş veri)\n",
        "Aşağıdaki blokta; özellikleri indirgenmemiş(salt) verinin, logistic regression sınıflandırması sonucunda elde ettiği çıktılarının f measure, precision, recall sonuçlarını ve confusion matrix bilgisini görmekteyiz.\n",
        "\n"
      ]
    },
    {
      "cell_type": "code",
      "metadata": {
        "id": "Q76urZ9w4rqs",
        "colab_type": "code",
        "colab": {
          "base_uri": "https://localhost:8080/",
          "height": 293
        },
        "outputId": "586534e9-bf7e-4ea8-8d9a-9b49127ff4ae"
      },
      "source": [
        "y_pred_salt = logisticRegrSalt.predict(test_img)\n",
        "cm_salt = confusion_matrix(test_lbl, y_pred_salt)\n",
        "f1_salt = f1_score(test_lbl, y_pred_salt, average=\"macro\")\n",
        "precision_salt = precision_score(test_lbl, y_pred_salt, average=\"macro\")\n",
        "recall_salt = recall_score(test_lbl, y_pred_salt, average=\"macro\")\n",
        "print(\"Salt Score : \", scoreSalt)\n",
        "print(\"Salt F Measure Score : \", f1_salt)\n",
        "print(\"Salt Precision Score : \", precision_salt)\n",
        "print(\"Salt Recall Score : \", recall_salt)\n",
        "print(\"Salt Confusion Matrix : \")\n",
        "print(cm_salt)"
      ],
      "execution_count": 2,
      "outputs": [
        {
          "output_type": "stream",
          "text": [
            "Salt Score :  0.9129\n",
            "Salt F Measure Score :  0.9114580180275705\n",
            "Salt Precision Score :  0.9114629243034559\n",
            "Salt Recall Score :  0.9115737161695305\n",
            "Salt Confusion Matrix : \n",
            "[[ 958    0    4    1    3   10   11    2    6    1]\n",
            " [   0 1108    9    2    1    5    2    3    9    2]\n",
            " [   9   16  915   22   10    5   19   11   30    3]\n",
            " [   2    5   32  888    2   30    2   13   23   16]\n",
            " [   2    2    5    2  887    3    9   12    6   34]\n",
            " [  10    4    8   27   10  748   18    3   27    8]\n",
            " [   8    2   12    0   10   17  933    1    5    1]\n",
            " [   3    4   17    6   11    5    1  970    6   41]\n",
            " [   6   11   10   25    6   23    9    3  855   15]\n",
            " [   3    5    5   11   31    8    1   32    6  867]]\n"
          ],
          "name": "stdout"
        }
      ]
    },
    {
      "cell_type": "markdown",
      "metadata": {
        "id": "BMCTIbDM_6VG",
        "colab_type": "text"
      },
      "source": [
        "## PCA\n",
        "Aşağıdaki blokta; PCA algoritmasıyla özellikleri indirgenmiş verinin, logistic regression sınıflandırması sonucunda elde ettiği çıktılarının f measure, precision, recall sonuçlarını ve confusion matrix bilgisini görmekteyiz.\n",
        "\n"
      ]
    },
    {
      "cell_type": "code",
      "metadata": {
        "id": "oLzzdopq7cW8",
        "colab_type": "code",
        "colab": {
          "base_uri": "https://localhost:8080/",
          "height": 293
        },
        "outputId": "dde1c9a4-d9a3-46b4-fa20-059e9b3993bf"
      },
      "source": [
        "y_pred_pca = logisticRegrPca.predict(test_img_pca)\n",
        "cm_pca = confusion_matrix(test_lbl, y_pred_pca)\n",
        "f1_pca = f1_score(test_lbl, y_pred_pca, average=\"macro\")\n",
        "precision_pca = precision_score(test_lbl, y_pred_pca, average=\"macro\")\n",
        "recall_pca = recall_score(test_lbl, y_pred_pca, average=\"macro\")\n",
        "print(\"PCA Score : \", scorePca)\n",
        "print(\"PCA F MEASURE : \", f1_pca)\n",
        "print(\"PCA Precision Score : \", precision_pca)\n",
        "print(\"PCA Recall Score : \", recall_pca)\n",
        "print(\"PCA Confusion Matrix : \")\n",
        "print(cm_pca)"
      ],
      "execution_count": 3,
      "outputs": [
        {
          "output_type": "stream",
          "text": [
            "PCA Score :  0.9128\n",
            "PCA F MEASURE :  0.9113566015329606\n",
            "PCA Precision Score :  0.9113602753977317\n",
            "PCA Recall Score :  0.9114726039349501\n",
            "PCA Confusion Matrix : \n",
            "[[ 958    0    4    1    3   10   11    2    6    1]\n",
            " [   0 1108    9    2    1    5    2    3    9    2]\n",
            " [   9   16  915   22   10    5   19   11   30    3]\n",
            " [   2    5   32  888    2   30    2   13   23   16]\n",
            " [   2    2    5    2  887    3    9   12    6   34]\n",
            " [  10    4    8   27   10  748   18    3   27    8]\n",
            " [   9    2   12    0   10   17  932    1    5    1]\n",
            " [   3    4   17    6   11    5    1  970    6   41]\n",
            " [   6   11   10   25    6   23    9    3  855   15]\n",
            " [   3    5    5   11   31    8    1   32    6  867]]\n"
          ],
          "name": "stdout"
        }
      ]
    },
    {
      "cell_type": "markdown",
      "metadata": {
        "id": "ec9NwnJTAJqu",
        "colab_type": "text"
      },
      "source": [
        "## LDA\n",
        "Aşağıdaki blokta; LDA algoritmasıyla özellikleri indirgenmiş verinin, logistic regression sınıflandırması sonucunda elde ettiği çıktılarının f measure, precision, recall sonuçlarını ve confusion matrix bilgisini görmekteyiz.\n",
        "\n"
      ]
    },
    {
      "cell_type": "code",
      "metadata": {
        "id": "nZM6nsvP7oUy",
        "colab_type": "code",
        "colab": {
          "base_uri": "https://localhost:8080/",
          "height": 293
        },
        "outputId": "338b3270-d532-4956-aeaf-29a9f2fe804e"
      },
      "source": [
        "y_pred_lda = logisticRegrLda.predict(test_img_lda)\n",
        "cm_lda = confusion_matrix(test_lbl, y_pred_lda)\n",
        "f1_lda = f1_score(test_lbl, y_pred_lda, average=\"macro\")\n",
        "precision_lda = precision_score(test_lbl, y_pred_lda, average=\"macro\")\n",
        "recall_lda = recall_score(test_lbl, y_pred_lda, average=\"macro\")\n",
        "print(\"LDA Score : \", scoreLda)\n",
        "print(\"LDA F MEASURE : \", f1_lda)\n",
        "print(\"LDA Precision Score : \", precision_lda)\n",
        "print(\"LDA Recall Score : \", recall_lda)\n",
        "print(\"LDA Confusion Matrix : \")\n",
        "print(cm_lda)"
      ],
      "execution_count": 4,
      "outputs": [
        {
          "output_type": "stream",
          "text": [
            "LDA Score :  0.8822\n",
            "LDA F MEASURE :  0.8805073509181085\n",
            "LDA Precision Score :  0.8807095396055367\n",
            "LDA Recall Score :  0.8806199719035435\n",
            "LDA Confusion Matrix : \n",
            "[[ 953    1    5    1    1   10   10    3   11    1]\n",
            " [   0 1087    7    4    2    4    1    7   26    3]\n",
            " [  13   19  896   29   15    1   23   12   27    5]\n",
            " [   1    6   44  857    1   40    5   18   25   16]\n",
            " [   1    6   10    0  883    3    7    4   10   38]\n",
            " [   7    5   13   33    9  719   18    7   40   12]\n",
            " [  11    4   20    1   10   21  909    1   11    1]\n",
            " [   6   19   17   11   23    7    0  918    4   59]\n",
            " [   5   38   11   38   13   33   10    3  787   25]\n",
            " [   6    1    6   13   57    8    2   52   11  813]]\n"
          ],
          "name": "stdout"
        }
      ]
    },
    {
      "cell_type": "markdown",
      "metadata": {
        "id": "GdvJWMY4AShh",
        "colab_type": "text"
      },
      "source": [
        "#Sonuç\n",
        "Logistic regression sınıflandırma algoritmasının girişine PCA algoritması ile özellikleri indirgenmiş veri verilmesiyle, salt veri verilmesinin çok büyük bir farklılık yaratmadığını görüyoruz. İki işlem için de confusion matrix aynı şekilde kalmakta fakat başarı skorlarında çok düşük oynamalar olmaktadır. Fakat PCA yerine LDA/FDA kullandığımızda; hem confusion matrix değişmekte, hem de başarı skorları arasında göz ardı edilemeyecek bir fark oluşmaktadır."
      ]
    }
  ]
}